{
  "nbformat": 4,
  "nbformat_minor": 0,
  "metadata": {
    "colab": {
      "name": "Dự ĐOán Bjtc0in",
      "provenance": [],
      "collapsed_sections": []
    },
    "kernelspec": {
      "display_name": "Python 3",
      "name": "python3"
    },
    "language_info": {
      "name": "python"
    },
    "accelerator": "GPU"
  },
  "cells": [
    {
      "cell_type": "code",
      "metadata": {
        "id": "F6PFRIexUztz",
        "colab": {
          "base_uri": "https://localhost:8080/"
        },
        "outputId": "69978eaa-1409-4a29-dc52-608a2b0bd699"
      },
      "source": [
        "from google.colab import drive\n",
        "drive.mount('/content/driver')"
      ],
      "execution_count": null,
      "outputs": [
        {
          "output_type": "stream",
          "name": "stdout",
          "text": [
            "Mounted at /content/driver\n"
          ]
        }
      ]
    },
    {
      "cell_type": "code",
      "metadata": {
        "id": "ybkVnZCCmlMo",
        "colab": {
          "base_uri": "https://localhost:8080/"
        },
        "outputId": "cbbeccff-8208-459c-ddda-a890cfa958e4"
      },
      "source": [
        "pip install yfinance"
      ],
      "execution_count": null,
      "outputs": [
        {
          "output_type": "stream",
          "name": "stdout",
          "text": [
            "Collecting yfinance\n",
            "  Downloading yfinance-0.1.64.tar.gz (26 kB)\n",
            "Requirement already satisfied: pandas>=0.24 in /usr/local/lib/python3.7/dist-packages (from yfinance) (1.1.5)\n",
            "Requirement already satisfied: numpy>=1.15 in /usr/local/lib/python3.7/dist-packages (from yfinance) (1.19.5)\n",
            "Requirement already satisfied: requests>=2.20 in /usr/local/lib/python3.7/dist-packages (from yfinance) (2.23.0)\n",
            "Requirement already satisfied: multitasking>=0.0.7 in /usr/local/lib/python3.7/dist-packages (from yfinance) (0.0.9)\n",
            "Collecting lxml>=4.5.1\n",
            "  Downloading lxml-4.6.4-cp37-cp37m-manylinux_2_17_x86_64.manylinux2014_x86_64.manylinux_2_24_x86_64.whl (6.3 MB)\n",
            "\u001b[K     |████████████████████████████████| 6.3 MB 7.8 MB/s \n",
            "\u001b[?25hRequirement already satisfied: python-dateutil>=2.7.3 in /usr/local/lib/python3.7/dist-packages (from pandas>=0.24->yfinance) (2.8.2)\n",
            "Requirement already satisfied: pytz>=2017.2 in /usr/local/lib/python3.7/dist-packages (from pandas>=0.24->yfinance) (2018.9)\n",
            "Requirement already satisfied: six>=1.5 in /usr/local/lib/python3.7/dist-packages (from python-dateutil>=2.7.3->pandas>=0.24->yfinance) (1.15.0)\n",
            "Requirement already satisfied: urllib3!=1.25.0,!=1.25.1,<1.26,>=1.21.1 in /usr/local/lib/python3.7/dist-packages (from requests>=2.20->yfinance) (1.24.3)\n",
            "Requirement already satisfied: certifi>=2017.4.17 in /usr/local/lib/python3.7/dist-packages (from requests>=2.20->yfinance) (2021.5.30)\n",
            "Requirement already satisfied: chardet<4,>=3.0.2 in /usr/local/lib/python3.7/dist-packages (from requests>=2.20->yfinance) (3.0.4)\n",
            "Requirement already satisfied: idna<3,>=2.5 in /usr/local/lib/python3.7/dist-packages (from requests>=2.20->yfinance) (2.10)\n",
            "Building wheels for collected packages: yfinance\n",
            "  Building wheel for yfinance (setup.py) ... \u001b[?25l\u001b[?25hdone\n",
            "  Created wheel for yfinance: filename=yfinance-0.1.64-py2.py3-none-any.whl size=24109 sha256=9eaa44afb82d250c1ef61247cea32ff43a79e1481a534007a934a2431774caff\n",
            "  Stored in directory: /root/.cache/pip/wheels/86/fe/9b/a4d3d78796b699e37065e5b6c27b75cff448ddb8b24943c288\n",
            "Successfully built yfinance\n",
            "Installing collected packages: lxml, yfinance\n",
            "  Attempting uninstall: lxml\n",
            "    Found existing installation: lxml 4.2.6\n",
            "    Uninstalling lxml-4.2.6:\n",
            "      Successfully uninstalled lxml-4.2.6\n",
            "Successfully installed lxml-4.6.4 yfinance-0.1.64\n"
          ]
        }
      ]
    },
    {
      "cell_type": "code",
      "metadata": {
        "id": "4x4Au1Mhzbzj"
      },
      "source": [
        "import yfinance as yf\n",
        "import pandas_datareader.data as pdr\n",
        "from datetime import datetime\n",
        "import pandas as pd\n",
        "import numpy as np\n",
        "import matplotlib.pyplot as plt\n",
        "plt.style.use('bmh') #Bayesian Methods for Hackers style\n",
        "from keras.models import Sequential\n",
        "from keras.layers import Dense\n",
        "from keras.layers import LSTM\n",
        "from keras.layers import Dropout\n",
        "from tensorflow import keras\n",
        "from sklearn.preprocessing import MinMaxScaler"
      ],
      "execution_count": null,
      "outputs": []
    },
    {
      "cell_type": "code",
      "metadata": {
        "id": "QgUf82RXzohK",
        "colab": {
          "base_uri": "https://localhost:8080/",
          "height": 472
        },
        "outputId": "8bd3afd5-bc63-48c0-f41f-afc510f86337"
      },
      "source": [
        "#Load data\n",
        "yf.pdr_override()\n",
        "\n",
        "start_date = '01-01-1983'\n",
        "end_date = '1-9-2021'\n",
        "\n",
        "company = 'NKE'\n",
        "\n",
        "start = datetime.strptime(start_date, '%d-%m-%Y')\n",
        "end = datetime.strptime(end_date, '%d-%m-%Y')\n",
        "df = pdr.get_data_yahoo(company, data_source='yahoo', start=start, end=end)\n",
        "df.round(2)"
      ],
      "execution_count": null,
      "outputs": [
        {
          "output_type": "stream",
          "name": "stdout",
          "text": [
            "\r[*********************100%***********************]  1 of 1 completed\n"
          ]
        },
        {
          "output_type": "execute_result",
          "data": {
            "text/html": [
              "<div>\n",
              "<style scoped>\n",
              "    .dataframe tbody tr th:only-of-type {\n",
              "        vertical-align: middle;\n",
              "    }\n",
              "\n",
              "    .dataframe tbody tr th {\n",
              "        vertical-align: top;\n",
              "    }\n",
              "\n",
              "    .dataframe thead th {\n",
              "        text-align: right;\n",
              "    }\n",
              "</style>\n",
              "<table border=\"1\" class=\"dataframe\">\n",
              "  <thead>\n",
              "    <tr style=\"text-align: right;\">\n",
              "      <th></th>\n",
              "      <th>Open</th>\n",
              "      <th>High</th>\n",
              "      <th>Low</th>\n",
              "      <th>Close</th>\n",
              "      <th>Adj Close</th>\n",
              "      <th>Volume</th>\n",
              "    </tr>\n",
              "    <tr>\n",
              "      <th>Date</th>\n",
              "      <th></th>\n",
              "      <th></th>\n",
              "      <th></th>\n",
              "      <th></th>\n",
              "      <th></th>\n",
              "      <th></th>\n",
              "    </tr>\n",
              "  </thead>\n",
              "  <tbody>\n",
              "    <tr>\n",
              "      <th>1983-01-03</th>\n",
              "      <td>0.35</td>\n",
              "      <td>0.36</td>\n",
              "      <td>0.34</td>\n",
              "      <td>0.34</td>\n",
              "      <td>0.25</td>\n",
              "      <td>14604800</td>\n",
              "    </tr>\n",
              "    <tr>\n",
              "      <th>1983-01-04</th>\n",
              "      <td>0.34</td>\n",
              "      <td>0.34</td>\n",
              "      <td>0.33</td>\n",
              "      <td>0.34</td>\n",
              "      <td>0.25</td>\n",
              "      <td>17420800</td>\n",
              "    </tr>\n",
              "    <tr>\n",
              "      <th>1983-01-05</th>\n",
              "      <td>0.34</td>\n",
              "      <td>0.34</td>\n",
              "      <td>0.33</td>\n",
              "      <td>0.34</td>\n",
              "      <td>0.25</td>\n",
              "      <td>17100800</td>\n",
              "    </tr>\n",
              "    <tr>\n",
              "      <th>1983-01-06</th>\n",
              "      <td>0.34</td>\n",
              "      <td>0.37</td>\n",
              "      <td>0.34</td>\n",
              "      <td>0.36</td>\n",
              "      <td>0.27</td>\n",
              "      <td>21107200</td>\n",
              "    </tr>\n",
              "    <tr>\n",
              "      <th>1983-01-07</th>\n",
              "      <td>0.36</td>\n",
              "      <td>0.36</td>\n",
              "      <td>0.32</td>\n",
              "      <td>0.33</td>\n",
              "      <td>0.24</td>\n",
              "      <td>43430400</td>\n",
              "    </tr>\n",
              "    <tr>\n",
              "      <th>...</th>\n",
              "      <td>...</td>\n",
              "      <td>...</td>\n",
              "      <td>...</td>\n",
              "      <td>...</td>\n",
              "      <td>...</td>\n",
              "      <td>...</td>\n",
              "    </tr>\n",
              "    <tr>\n",
              "      <th>2021-08-25</th>\n",
              "      <td>170.00</td>\n",
              "      <td>170.69</td>\n",
              "      <td>169.53</td>\n",
              "      <td>169.84</td>\n",
              "      <td>169.56</td>\n",
              "      <td>3003800</td>\n",
              "    </tr>\n",
              "    <tr>\n",
              "      <th>2021-08-26</th>\n",
              "      <td>169.38</td>\n",
              "      <td>169.52</td>\n",
              "      <td>166.27</td>\n",
              "      <td>166.92</td>\n",
              "      <td>166.65</td>\n",
              "      <td>4069600</td>\n",
              "    </tr>\n",
              "    <tr>\n",
              "      <th>2021-08-27</th>\n",
              "      <td>167.27</td>\n",
              "      <td>168.07</td>\n",
              "      <td>166.28</td>\n",
              "      <td>167.58</td>\n",
              "      <td>167.58</td>\n",
              "      <td>3010400</td>\n",
              "    </tr>\n",
              "    <tr>\n",
              "      <th>2021-08-30</th>\n",
              "      <td>167.89</td>\n",
              "      <td>168.41</td>\n",
              "      <td>166.57</td>\n",
              "      <td>168.03</td>\n",
              "      <td>168.03</td>\n",
              "      <td>3537100</td>\n",
              "    </tr>\n",
              "    <tr>\n",
              "      <th>2021-08-31</th>\n",
              "      <td>167.55</td>\n",
              "      <td>167.68</td>\n",
              "      <td>164.20</td>\n",
              "      <td>164.74</td>\n",
              "      <td>164.74</td>\n",
              "      <td>7545600</td>\n",
              "    </tr>\n",
              "  </tbody>\n",
              "</table>\n",
              "<p>9748 rows × 6 columns</p>\n",
              "</div>"
            ],
            "text/plain": [
              "              Open    High     Low   Close  Adj Close    Volume\n",
              "Date                                                           \n",
              "1983-01-03    0.35    0.36    0.34    0.34       0.25  14604800\n",
              "1983-01-04    0.34    0.34    0.33    0.34       0.25  17420800\n",
              "1983-01-05    0.34    0.34    0.33    0.34       0.25  17100800\n",
              "1983-01-06    0.34    0.37    0.34    0.36       0.27  21107200\n",
              "1983-01-07    0.36    0.36    0.32    0.33       0.24  43430400\n",
              "...            ...     ...     ...     ...        ...       ...\n",
              "2021-08-25  170.00  170.69  169.53  169.84     169.56   3003800\n",
              "2021-08-26  169.38  169.52  166.27  166.92     166.65   4069600\n",
              "2021-08-27  167.27  168.07  166.28  167.58     167.58   3010400\n",
              "2021-08-30  167.89  168.41  166.57  168.03     168.03   3537100\n",
              "2021-08-31  167.55  167.68  164.20  164.74     164.74   7545600\n",
              "\n",
              "[9748 rows x 6 columns]"
            ]
          },
          "metadata": {},
          "execution_count": 5
        }
      ]
    },
    {
      "cell_type": "code",
      "metadata": {
        "id": "wgoLOMHm2uah",
        "colab": {
          "base_uri": "https://localhost:8080/",
          "height": 455
        },
        "outputId": "93e6d48f-c393-4da7-eafd-585b9b12d39f"
      },
      "source": [
        "#Create a new dataframe with only the 'Close'\n",
        "data = df.filter(['Close'])\n",
        "data"
      ],
      "execution_count": null,
      "outputs": [
        {
          "output_type": "execute_result",
          "data": {
            "text/html": [
              "<div>\n",
              "<style scoped>\n",
              "    .dataframe tbody tr th:only-of-type {\n",
              "        vertical-align: middle;\n",
              "    }\n",
              "\n",
              "    .dataframe tbody tr th {\n",
              "        vertical-align: top;\n",
              "    }\n",
              "\n",
              "    .dataframe thead th {\n",
              "        text-align: right;\n",
              "    }\n",
              "</style>\n",
              "<table border=\"1\" class=\"dataframe\">\n",
              "  <thead>\n",
              "    <tr style=\"text-align: right;\">\n",
              "      <th></th>\n",
              "      <th>Close</th>\n",
              "    </tr>\n",
              "    <tr>\n",
              "      <th>Date</th>\n",
              "      <th></th>\n",
              "    </tr>\n",
              "  </thead>\n",
              "  <tbody>\n",
              "    <tr>\n",
              "      <th>1983-01-03</th>\n",
              "      <td>0.343750</td>\n",
              "    </tr>\n",
              "    <tr>\n",
              "      <th>1983-01-04</th>\n",
              "      <td>0.340820</td>\n",
              "    </tr>\n",
              "    <tr>\n",
              "      <th>1983-01-05</th>\n",
              "      <td>0.335938</td>\n",
              "    </tr>\n",
              "    <tr>\n",
              "      <th>1983-01-06</th>\n",
              "      <td>0.361328</td>\n",
              "    </tr>\n",
              "    <tr>\n",
              "      <th>1983-01-07</th>\n",
              "      <td>0.332031</td>\n",
              "    </tr>\n",
              "    <tr>\n",
              "      <th>...</th>\n",
              "      <td>...</td>\n",
              "    </tr>\n",
              "    <tr>\n",
              "      <th>2021-08-25</th>\n",
              "      <td>169.839996</td>\n",
              "    </tr>\n",
              "    <tr>\n",
              "      <th>2021-08-26</th>\n",
              "      <td>166.919998</td>\n",
              "    </tr>\n",
              "    <tr>\n",
              "      <th>2021-08-27</th>\n",
              "      <td>167.580002</td>\n",
              "    </tr>\n",
              "    <tr>\n",
              "      <th>2021-08-30</th>\n",
              "      <td>168.029999</td>\n",
              "    </tr>\n",
              "    <tr>\n",
              "      <th>2021-08-31</th>\n",
              "      <td>164.740005</td>\n",
              "    </tr>\n",
              "  </tbody>\n",
              "</table>\n",
              "<p>9748 rows × 1 columns</p>\n",
              "</div>"
            ],
            "text/plain": [
              "                 Close\n",
              "Date                  \n",
              "1983-01-03    0.343750\n",
              "1983-01-04    0.340820\n",
              "1983-01-05    0.335938\n",
              "1983-01-06    0.361328\n",
              "1983-01-07    0.332031\n",
              "...                ...\n",
              "2021-08-25  169.839996\n",
              "2021-08-26  166.919998\n",
              "2021-08-27  167.580002\n",
              "2021-08-30  168.029999\n",
              "2021-08-31  164.740005\n",
              "\n",
              "[9748 rows x 1 columns]"
            ]
          },
          "metadata": {},
          "execution_count": 6
        }
      ]
    },
    {
      "cell_type": "code",
      "metadata": {
        "colab": {
          "base_uri": "https://localhost:8080/",
          "height": 513
        },
        "id": "2TBxRTBC1RUN",
        "outputId": "d2d0ae65-165b-47de-ec70-c2feb8e16538"
      },
      "source": [
        "#Visualize the close price data\n",
        "plt.figure(figsize=(20,8))\n",
        "plt.title(company)\n",
        "plt.xlabel('Days')\n",
        "plt.ylabel('Close Price USD ($)')\n",
        "plt.plot(data['Close'])\n",
        "plt.show()\n",
        "#Timeseries: RNN\n",
        "#Impor: Preprocessdata->learn pattern\n",
        "#World predict changes not value"
      ],
      "execution_count": null,
      "outputs": [
        {
          "output_type": "display_data",
          "data": {
            "image/png": "[encoded data removed]",
            "text/plain": [
              "<Figure size 1440x576 with 1 Axes>"
            ]
          },
          "metadata": {
            "needs_background": "light"
          }
        }
      ]
    },
    {
      "cell_type": "code",
      "metadata": {
        "colab": {
          "base_uri": "https://localhost:8080/"
        },
        "id": "Iyei3Aem2LZf",
        "outputId": "6cf080e3-7ec8-457a-8a36-0c78196fb61e"
      },
      "source": [
        "#Prepare data\n",
        "scaler = MinMaxScaler(feature_range=(0,1))\n",
        "scaled_data = scaler.fit_transform(data['Close'].values.reshape(-1,1))\n",
        "len(scaled_data)"
      ],
      "execution_count": null,
      "outputs": [
        {
          "output_type": "execute_result",
          "data": {
            "text/plain": [
              "9748"
            ]
          },
          "metadata": {},
          "execution_count": 8
        }
      ]
    },
    {
      "cell_type": "code",
      "metadata": {
        "colab": {
          "base_uri": "https://localhost:8080/"
        },
        "id": "V95aHUw94JaD",
        "outputId": "57fbc35d-584c-4f4f-a1be-0477d650705e"
      },
      "source": [
        "#Create x_train, y_train\n",
        "prediction_days = 60\n",
        "x_train = []\n",
        "y_train = []\n",
        "for x in range(prediction_days, len(scaled_data)):\n",
        "  x_train.append(scaled_data[x-prediction_days:x, 0])\n",
        "  y_train.append(scaled_data[x, 0])\n",
        "\n",
        "x_train, y_train = np.array(x_train), np.array(y_train)\n",
        "#Reshape x_train\n",
        "x_train = np.reshape(x_train, (x_train.shape[0], x_train.shape[1], 1))\n",
        "x_train.shape"
      ],
      "execution_count": null,
      "outputs": [
        {
          "output_type": "execute_result",
          "data": {
            "text/plain": [
              "(9688, 60, 1)"
            ]
          },
          "metadata": {},
          "execution_count": 10
        }
      ]
    },
    {
      "cell_type": "code",
      "metadata": {
        "id": "sJfgqQqW9ISy",
        "colab": {
          "base_uri": "https://localhost:8080/"
        },
        "outputId": "4b5a1f7e-e168-4982-ffec-6ba1eeedefa6"
      },
      "source": [
        "#Build the LSTM Model\n",
        "model = keras.Sequential()\n",
        "#RNN:\n",
        "model.add(LSTM(units = 50, return_sequences = True, input_shape = (x_train.shape[1], 1)))\n",
        "model.add(Dropout(0.2))\n",
        "model.add(LSTM(units = 50, return_sequences = True))\n",
        "model.add(Dropout(0.2))\n",
        "model.add(LSTM(units = 50, return_sequences = True))\n",
        "model.add(Dropout(0.2))\n",
        "model.add(LSTM(units = 50))\n",
        "model.add(Dropout(0.2))\n",
        "# Adding the output layer\n",
        "model.add(Dense(units = 1))\n",
        "# Compiling the RNN\n",
        "model.compile(optimizer = 'adam', loss = 'mean_squared_error')\n",
        "# Fitting the RNN to the Training set\n",
        "model.fit(x_train, y_train, epochs = 100, batch_size = 32)\n",
        "model.save('/content/driver/My Drive/Colab Notebooks/model/stock03.h5')"
      ],
      "execution_count": null,
      "outputs": [
        {
          "output_type": "stream",
          "name": "stdout",
          "text": [
            "Epoch 1/100\n",
            "303/303 [==============================] - 25s 61ms/step - loss: 0.0014\n",
            "Epoch 2/100\n",
            "303/303 [==============================] - 18s 61ms/step - loss: 6.9060e-04\n",
            "Epoch 3/100\n",
            "303/303 [==============================] - 19s 61ms/step - loss: 5.7753e-04\n",
            "Epoch 4/100\n",
            "303/303 [==============================] - 18s 61ms/step - loss: 5.5884e-04\n",
            "Epoch 5/100\n",
            "303/303 [==============================] - 18s 61ms/step - loss: 5.0999e-04\n",
            "Epoch 6/100\n",
            "303/303 [==============================] - 18s 60ms/step - loss: 4.8760e-04\n",
            "Epoch 7/100\n",
            "303/303 [==============================] - 18s 60ms/step - loss: 4.3085e-04\n",
            "Epoch 8/100\n",
            "303/303 [==============================] - 18s 61ms/step - loss: 4.1671e-04\n",
            "Epoch 9/100\n",
            "303/303 [==============================] - 18s 60ms/step - loss: 4.6416e-04\n",
            "Epoch 10/100\n",
            "303/303 [==============================] - 18s 61ms/step - loss: 4.1670e-04\n",
            "Epoch 11/100\n",
            "303/303 [==============================] - 18s 61ms/step - loss: 3.9115e-04\n",
            "Epoch 12/100\n",
            "303/303 [==============================] - 18s 61ms/step - loss: 4.0138e-04\n",
            "Epoch 13/100\n",
            "303/303 [==============================] - 19s 61ms/step - loss: 4.2581e-04\n",
            "Epoch 14/100\n",
            "303/303 [==============================] - 18s 61ms/step - loss: 4.4857e-04\n",
            "Epoch 15/100\n",
            "303/303 [==============================] - 18s 61ms/step - loss: 3.8403e-04\n",
            "Epoch 16/100\n",
            "303/303 [==============================] - 18s 61ms/step - loss: 3.6856e-04\n",
            "Epoch 17/100\n",
            "303/303 [==============================] - 18s 61ms/step - loss: 3.6494e-04\n",
            "Epoch 18/100\n",
            "303/303 [==============================] - 18s 61ms/step - loss: 3.8073e-04\n",
            "Epoch 19/100\n",
            "303/303 [==============================] - 18s 61ms/step - loss: 3.6795e-04\n",
            "Epoch 20/100\n",
            "303/303 [==============================] - 18s 60ms/step - loss: 3.5512e-04\n",
            "Epoch 21/100\n",
            "303/303 [==============================] - 18s 60ms/step - loss: 3.4468e-04\n",
            "Epoch 22/100\n",
            "303/303 [==============================] - 18s 60ms/step - loss: 3.8765e-04\n",
            "Epoch 23/100\n",
            "303/303 [==============================] - 18s 61ms/step - loss: 3.7427e-04\n",
            "Epoch 24/100\n",
            "303/303 [==============================] - 19s 61ms/step - loss: 3.7025e-04\n",
            "Epoch 25/100\n",
            "303/303 [==============================] - 19s 61ms/step - loss: 3.3140e-04\n",
            "Epoch 26/100\n",
            "303/303 [==============================] - 18s 61ms/step - loss: 3.4289e-04\n",
            "Epoch 27/100\n",
            "303/303 [==============================] - 18s 61ms/step - loss: 3.7655e-04\n",
            "Epoch 28/100\n",
            "303/303 [==============================] - 18s 61ms/step - loss: 3.6849e-04\n",
            "Epoch 29/100\n",
            "303/303 [==============================] - 18s 61ms/step - loss: 3.4885e-04\n",
            "Epoch 30/100\n",
            "303/303 [==============================] - 18s 61ms/step - loss: 3.5769e-04\n",
            "Epoch 31/100\n",
            "303/303 [==============================] - 18s 60ms/step - loss: 3.2739e-04\n",
            "Epoch 32/100\n",
            "303/303 [==============================] - 18s 61ms/step - loss: 3.3854e-04\n",
            "Epoch 33/100\n",
            "303/303 [==============================] - 18s 60ms/step - loss: 3.4361e-04\n",
            "Epoch 34/100\n",
            "303/303 [==============================] - 18s 60ms/step - loss: 2.9293e-04\n",
            "Epoch 35/100\n",
            "303/303 [==============================] - 18s 60ms/step - loss: 3.4449e-04\n",
            "Epoch 36/100\n",
            "303/303 [==============================] - 18s 60ms/step - loss: 3.3579e-04\n",
            "Epoch 37/100\n",
            "303/303 [==============================] - 18s 60ms/step - loss: 3.3746e-04\n",
            "Epoch 38/100\n",
            "303/303 [==============================] - 18s 61ms/step - loss: 3.2322e-04\n",
            "Epoch 39/100\n",
            "303/303 [==============================] - 18s 61ms/step - loss: 3.5332e-04\n",
            "Epoch 40/100\n",
            "303/303 [==============================] - 18s 60ms/step - loss: 3.2299e-04\n",
            "Epoch 41/100\n",
            "303/303 [==============================] - 18s 60ms/step - loss: 3.5693e-04\n",
            "Epoch 42/100\n",
            "303/303 [==============================] - 18s 61ms/step - loss: 3.3486e-04\n",
            "Epoch 43/100\n",
            "303/303 [==============================] - 18s 60ms/step - loss: 3.0740e-04\n",
            "Epoch 44/100\n",
            "303/303 [==============================] - 18s 60ms/step - loss: 3.5152e-04\n",
            "Epoch 45/100\n",
            "303/303 [==============================] - 18s 60ms/step - loss: 3.3745e-04\n",
            "Epoch 46/100\n",
            "303/303 [==============================] - 18s 60ms/step - loss: 2.8918e-04\n",
            "Epoch 47/100\n",
            "303/303 [==============================] - 18s 60ms/step - loss: 3.3618e-04\n",
            "Epoch 48/100\n",
            "303/303 [==============================] - 18s 60ms/step - loss: 2.8811e-04\n",
            "Epoch 49/100\n",
            "303/303 [==============================] - 18s 60ms/step - loss: 3.1637e-04\n",
            "Epoch 50/100\n",
            "303/303 [==============================] - 18s 61ms/step - loss: 2.9352e-04\n",
            "Epoch 51/100\n",
            "303/303 [==============================] - 18s 61ms/step - loss: 2.9578e-04\n",
            "Epoch 52/100\n",
            "303/303 [==============================] - 18s 61ms/step - loss: 2.9557e-04\n",
            "Epoch 53/100\n",
            "303/303 [==============================] - 18s 61ms/step - loss: 3.1529e-04\n",
            "Epoch 54/100\n",
            "303/303 [==============================] - 18s 61ms/step - loss: 3.3604e-04\n",
            "Epoch 55/100\n",
            "303/303 [==============================] - 18s 61ms/step - loss: 2.8367e-04\n",
            "Epoch 56/100\n",
            "303/303 [==============================] - 18s 61ms/step - loss: 3.0696e-04\n",
            "Epoch 57/100\n",
            "303/303 [==============================] - 18s 61ms/step - loss: 3.1275e-04\n",
            "Epoch 58/100\n",
            "303/303 [==============================] - 18s 60ms/step - loss: 2.6941e-04\n",
            "Epoch 59/100\n",
            "303/303 [==============================] - 18s 61ms/step - loss: 2.7533e-04\n",
            "Epoch 60/100\n",
            "303/303 [==============================] - 18s 60ms/step - loss: 2.9219e-04\n",
            "Epoch 61/100\n",
            "303/303 [==============================] - 18s 61ms/step - loss: 3.2161e-04\n",
            "Epoch 62/100\n",
            "303/303 [==============================] - 18s 61ms/step - loss: 2.9835e-04\n",
            "Epoch 63/100\n",
            "303/303 [==============================] - 19s 61ms/step - loss: 3.1159e-04\n",
            "Epoch 64/100\n",
            "303/303 [==============================] - 19s 61ms/step - loss: 2.9753e-04\n",
            "Epoch 65/100\n",
            "303/303 [==============================] - 18s 61ms/step - loss: 2.9463e-04\n",
            "Epoch 66/100\n",
            "303/303 [==============================] - 19s 61ms/step - loss: 3.0316e-04\n",
            "Epoch 67/100\n",
            "303/303 [==============================] - 19s 61ms/step - loss: 2.8740e-04\n",
            "Epoch 68/100\n",
            "303/303 [==============================] - 19s 61ms/step - loss: 2.9472e-04\n",
            "Epoch 69/100\n",
            "303/303 [==============================] - 19s 61ms/step - loss: 2.9456e-04\n",
            "Epoch 70/100\n",
            "303/303 [==============================] - 18s 61ms/step - loss: 2.9926e-04\n",
            "Epoch 71/100\n",
            "303/303 [==============================] - 18s 60ms/step - loss: 3.0549e-04\n",
            "Epoch 72/100\n",
            "303/303 [==============================] - 18s 61ms/step - loss: 2.9747e-04\n",
            "Epoch 73/100\n",
            "303/303 [==============================] - 18s 61ms/step - loss: 2.9452e-04\n",
            "Epoch 74/100\n",
            "303/303 [==============================] - 18s 61ms/step - loss: 2.7464e-04\n",
            "Epoch 75/100\n",
            "303/303 [==============================] - 18s 60ms/step - loss: 2.7317e-04\n",
            "Epoch 76/100\n",
            "303/303 [==============================] - 18s 60ms/step - loss: 2.9713e-04\n",
            "Epoch 77/100\n",
            "303/303 [==============================] - 18s 61ms/step - loss: 2.8746e-04\n",
            "Epoch 78/100\n",
            "303/303 [==============================] - 18s 61ms/step - loss: 2.6020e-04\n",
            "Epoch 79/100\n",
            "303/303 [==============================] - 18s 61ms/step - loss: 2.8661e-04\n",
            "Epoch 80/100\n",
            "303/303 [==============================] - 18s 61ms/step - loss: 2.7693e-04\n",
            "Epoch 81/100\n",
            "303/303 [==============================] - 18s 61ms/step - loss: 2.5980e-04\n",
            "Epoch 82/100\n",
            "303/303 [==============================] - 18s 60ms/step - loss: 2.6999e-04\n",
            "Epoch 83/100\n",
            "303/303 [==============================] - 19s 61ms/step - loss: 2.4920e-04\n",
            "Epoch 84/100\n",
            "303/303 [==============================] - 18s 60ms/step - loss: 2.7389e-04\n",
            "Epoch 85/100\n",
            "303/303 [==============================] - 18s 61ms/step - loss: 2.8955e-04\n",
            "Epoch 86/100\n",
            "303/303 [==============================] - 18s 60ms/step - loss: 2.7697e-04\n",
            "Epoch 87/100\n",
            "303/303 [==============================] - 18s 60ms/step - loss: 2.6798e-04\n",
            "Epoch 88/100\n",
            "303/303 [==============================] - 18s 60ms/step - loss: 2.7456e-04\n",
            "Epoch 89/100\n",
            "303/303 [==============================] - 18s 61ms/step - loss: 2.8034e-04\n",
            "Epoch 90/100\n",
            "303/303 [==============================] - 18s 61ms/step - loss: 2.9832e-04\n",
            "Epoch 91/100\n",
            "303/303 [==============================] - 18s 61ms/step - loss: 2.6298e-04\n",
            "Epoch 92/100\n",
            "303/303 [==============================] - 18s 61ms/step - loss: 2.6083e-04\n",
            "Epoch 93/100\n",
            "303/303 [==============================] - 18s 61ms/step - loss: 2.8735e-04\n",
            "Epoch 94/100\n",
            "303/303 [==============================] - 18s 61ms/step - loss: 2.6969e-04\n",
            "Epoch 95/100\n",
            "303/303 [==============================] - 18s 61ms/step - loss: 2.8820e-04\n",
            "Epoch 96/100\n",
            "303/303 [==============================] - 18s 61ms/step - loss: 2.6434e-04\n",
            "Epoch 97/100\n",
            "303/303 [==============================] - 18s 61ms/step - loss: 2.7389e-04\n",
            "Epoch 98/100\n",
            "303/303 [==============================] - 18s 60ms/step - loss: 2.6907e-04\n",
            "Epoch 99/100\n",
            "303/303 [==============================] - 18s 60ms/step - loss: 2.6932e-04\n",
            "Epoch 100/100\n",
            "303/303 [==============================] - 18s 60ms/step - loss: 2.5862e-04\n"
          ]
        }
      ]
    },
    {
      "cell_type": "code",
      "metadata": {
        "id": "0Cb7xrkaB-SN"
      },
      "source": [
        "#Load the test data\n",
        "yf.pdr_override()\n",
        "\n",
        "start_date = '02-09-2021'\n",
        "end_date = '31-10-2021'\n",
        "\n",
        "start = datetime.strptime(start_date, '%d-%m-%Y')\n",
        "end = datetime.strptime(end_date, '%d-%m-%Y')\n",
        "test_data = pdr.get_data_yahoo(company, data_source='yahoo', start=start, end=end)\n",
        "\n",
        "actual_prices = test_data['Close'].values\n",
        "total_dataset = pd.concat((data['Close'],test_data['Close']), axis = 0)\n",
        "inputs = total_dataset[len(total_dataset) - len(test_data) - prediction_days:].values\n",
        "inputs = inputs.reshape(-1,1)\n",
        "inputs = scaler.transform(inputs)\n",
        "print(test_data)\n",
        "#Visualize the test data\n",
        "plt.figure(figsize=(20,8))\n",
        "plt.title(company)\n",
        "plt.xlabel('Days')\n",
        "plt.ylabel('Close Price USD ($)')\n",
        "plt.plot(test_data['Close'])\n",
        "plt.show()"
      ],
      "execution_count": null,
      "outputs": []
    },
    {
      "cell_type": "code",
      "metadata": {
        "id": "XvRD1nT7EOys"
      },
      "source": [
        "#Prediction on test data\n",
        "x_test = []\n",
        "for x in range(prediction_days, len(inputs)):\n",
        "  x_test.append(inputs[x-prediction_days:x, 0])\n",
        "x_test = np.array(x_test)\n",
        "x_test = np.reshape(x_test, (x_test.shape[0], x_test.shape[1], 1))\n",
        "\n",
        "model = keras.models.load_model('/content/driver/My Drive/Colab Notebooks/model/stock03.h5')\n",
        "predicted_prices = model.predict(x_test)\n",
        "predicted_prices = scaler.inverse_transform(predicted_prices)"
      ],
      "execution_count": null,
      "outputs": []
    },
    {
      "cell_type": "code",
      "metadata": {
        "id": "2oxLplUh-Av8"
      },
      "source": [
        "def plot_loss(history):\n",
        "  plt.plot(history.history['loss'], label='loss')\n",
        "  plt.plot(history.history['val_loss'], label='val_loss')\n",
        "  plt.ylim([0, 10])\n",
        "  plt.xlabel('Epoch')\n",
        "  plt.ylabel('Error [MPG]')\n",
        "  plt.legend()\n",
        "  plt.grid(True)"
      ],
      "execution_count": null,
      "outputs": []
    },
    {
      "cell_type": "code",
      "metadata": {
        "id": "I6j2X7cyC7r_"
      },
      "source": [
        "#Confusion Matrix\n",
        "import matplotlib.pyplot as plt\n",
        "import seaborn as sns\n",
        "from sklearn import metrics\n",
        "import tensorflow as tf\n",
        "x_test = tf.convert_to_tensor(x_test, dtype = tf.float32)\n",
        "# Evaluating confusion matric\n",
        "res = tf.math.confusion_matrix(x_test,predicted_prices)\n",
        "\n",
        "\n",
        "# Printing the result\n",
        "print('Confusion_matrix: ',res)"
      ],
      "execution_count": null,
      "outputs": []
    },
    {
      "cell_type": "code",
      "metadata": {
        "colab": {
          "base_uri": "https://localhost:8080/",
          "height": 622
        },
        "id": "bKE_JMECG4FO",
        "outputId": "6cb79fb5-740e-4c98-df07-56ab1b6ef54f"
      },
      "source": [
        "#visualize the data\n",
        "plt.figure(figsize=(20,10))\n",
        "plt.title(company)\n",
        "plt.xlabel('Days')\n",
        "plt.ylabel('Stock Price')\n",
        "plt.plot(actual_prices, color=\"blue\")\n",
        "plt.plot(predicted_prices, color=\"red\")\n",
        "plt.legend(['Actual', 'Predict'])\n",
        "plt.show()"
      ],
      "execution_count": null,
      "outputs": [
        {
          "output_type": "display_data",
          "data": {
            "image/png": "[encoded data removed]",
            "text/plain": [
              "<Figure size 1440x720 with 1 Axes>"
            ]
          },
          "metadata": {
            "needs_background": "light"
          }
        }
      ]
    },
    {
      "cell_type": "code",
      "metadata": {
        "colab": {
          "base_uri": "https://localhost:8080/"
        },
        "id": "MkScS2m5Pa3b",
        "outputId": "375b21e3-fb11-4e56-b18f-838d899b0ff7"
      },
      "source": [
        "#Predict the next day\n",
        "real_data = [inputs[len(inputs) + 1 - prediction_days:len(inputs+1),0]]\n",
        "real_data = np.array(real_data)\n",
        "real_data = np.reshape(real_data, (real_data.shape[0], real_data.shape[1], 1))\n",
        "prediction = model.predict(real_data)\n",
        "\n",
        "aa=float((prediction-inputs[-1])*100)\n",
        "\n",
        "prediction = scaler.inverse_transform(prediction)\n",
        "print(f\"Prediction of the next day: {prediction}\")\n",
        "print(f\"Predict: {aa:.2f}%\")"
      ],
      "execution_count": null,
      "outputs": [
        {
          "output_type": "stream",
          "name": "stdout",
          "text": [
            "WARNING:tensorflow:Model was constructed with shape (None, 60, 1) for input KerasTensor(type_spec=TensorSpec(shape=(None, 60, 1), dtype=tf.float32, name='lstm_input'), name='lstm_input', description=\"created by layer 'lstm_input'\"), but it was called on an input with incompatible shape (None, 59, 1).\n",
            "Prediction of the next day: [[168.51387]]\n",
            "Predict: 0.39%\n"
          ]
        }
      ]
    }
  ]
}